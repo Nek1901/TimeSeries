{
 "cells": [
  {
   "cell_type": "code",
   "execution_count": 39,
   "id": "9a8cb4e1",
   "metadata": {},
   "outputs": [],
   "source": [
    "import pandas as pd\n",
    "import numpy as np\n",
    "from datetime import timedelta"
   ]
  },
  {
   "cell_type": "code",
   "execution_count": 40,
   "id": "c91d5ecc",
   "metadata": {},
   "outputs": [],
   "source": [
    "# Tải dữ liệu\n",
    "data = pd.read_csv(r\"C:\\Users\\Admin\\Downloads\\FE_hourly.csv\", parse_dates=['Datetime'])"
   ]
  },
  {
   "cell_type": "code",
   "execution_count": 41,
   "id": "28b0470b",
   "metadata": {},
   "outputs": [
    {
     "name": "stdout",
     "output_type": "stream",
     "text": [
      "Giá trị thiếu:\n",
      " Datetime    0\n",
      "FE_MW       0\n",
      "dtype: int64\n"
     ]
    }
   ],
   "source": [
    "# Kiểm tra giá trị thiếu\n",
    "missing_values = data.isnull().sum()\n",
    "print(\"Giá trị thiếu:\\n\", missing_values)"
   ]
  },
  {
   "cell_type": "code",
   "execution_count": 42,
   "id": "1158dd96",
   "metadata": {},
   "outputs": [
    {
     "name": "stdout",
     "output_type": "stream",
     "text": [
      "Các khoảng thời gian không liên tục:\n",
      "                  Datetime   FE_MW         time_diff\n",
      "0     2011-12-31 01:00:00  6222.0               NaT\n",
      "24    2011-12-30 01:00:00  6601.0 -2 days +01:00:00\n",
      "48    2011-12-29 01:00:00  7253.0 -2 days +01:00:00\n",
      "72    2011-12-28 01:00:00  6942.0 -2 days +01:00:00\n",
      "96    2011-12-27 01:00:00  6482.0 -2 days +01:00:00\n",
      "...                   ...     ...               ...\n",
      "62754 2018-01-05 01:00:00  9009.0 -2 days +01:00:00\n",
      "62778 2018-01-04 01:00:00  8329.0 -2 days +01:00:00\n",
      "62802 2018-01-03 01:00:00  8891.0 -2 days +01:00:00\n",
      "62826 2018-01-02 01:00:00  8138.0 -2 days +01:00:00\n",
      "62850 2018-01-01 01:00:00  7907.0 -2 days +01:00:00\n",
      "\n",
      "[2634 rows x 3 columns]\n"
     ]
    }
   ],
   "source": [
    "# Kiểm tra tính liên tục của thời gian\n",
    "data['time_diff'] = data['Datetime'].diff()\n",
    "time_gaps = data[data['time_diff'] != timedelta(hours=1)]\n",
    "print(\"Các khoảng thời gian không liên tục:\\n\", time_gaps)"
   ]
  },
  {
   "cell_type": "code",
   "execution_count": 43,
   "id": "0197c38a",
   "metadata": {},
   "outputs": [],
   "source": [
    "# Xóa cột tạm\n",
    "data = data.drop(columns=['time_diff'])"
   ]
  },
  {
   "cell_type": "code",
   "execution_count": 68,
   "id": "b0d56486",
   "metadata": {},
   "outputs": [],
   "source": [
    "from sklearn.preprocessing import MinMaxScaler\n",
    "\n",
    "# Chuẩn hóa dữ liệu\n",
    "scaler = MinMaxScaler(feature_range=(0, 1))\n",
    "scaled_data = scaler.fit_transform(data['FE_MW'].values.reshape(-1, 1))# Tạo đặc trưng từ thời gian\n",
    "data['Hour'] = data['Datetime'].dt.hour\n",
    "data['IsPeakHour'] = data['Hour'].isin([8, 9, 10, 17, 18, 19]).astype(int)  # Giờ cao điểm\n",
    "data['DayOfWeek'] = data['Datetime'].dt.dayofweek\n",
    "data['Month'] = data['Datetime'].dt.month\n",
    "data['DayOfMonth'] = data['Datetime'].dt.day\n",
    "data['Year'] = data['Datetime'].dt.year"
   ]
  },
  {
   "cell_type": "code",
   "execution_count": 69,
   "id": "50494927",
   "metadata": {},
   "outputs": [],
   "source": [
    "# Tạo các giá trị lag\n",
    "for lag in range(1, 49):  # Tăng lag lên 48 giờ để nắm bắt mẫu tốt hơn\n",
    "    data[f'lag_{lag}'] = data['FE_MW'].shift(lag)"
   ]
  },
  {
   "cell_type": "code",
   "execution_count": 70,
   "id": "2a242ebe",
   "metadata": {},
   "outputs": [],
   "source": [
    "# Tạo trung bình động\n",
    "data['MA_24'] = data['FE_MW'].rolling(window=24).mean()\n",
    "data['MA_168'] = data['FE_MW'].rolling(window=168).mean()"
   ]
  },
  {
   "cell_type": "code",
   "execution_count": 71,
   "id": "ca8c7d5f",
   "metadata": {},
   "outputs": [],
   "source": [
    "# Loại bỏ các hàng có giá trị NaN do lag và rolling\n",
    "data = data.dropna()"
   ]
  },
  {
   "cell_type": "code",
   "execution_count": 72,
   "id": "9b0264d1",
   "metadata": {},
   "outputs": [],
   "source": [
    "# Chia dữ liệu: Lấy 1 tháng cuối để huấn luyện và dự báo 24 giờ tiếp theo\n",
    "train_end = data['Datetime'].max() - timedelta(hours=24)\n",
    "train_data = data[data['Datetime'] <= train_end][-720:]  # 1 tháng (720 giờ)\n",
    "test_data = data[data['Datetime'] > train_end][:24]  # 24 giờ tiếp theo"
   ]
  },
  {
   "cell_type": "code",
   "execution_count": 74,
   "id": "2f5a33a6",
   "metadata": {},
   "outputs": [],
   "source": [
    "# Chuẩn bị đặc trưng và nhãn\n",
    "features = ['Hour', 'IsPeakHour', 'DayOfWeek', 'Month', 'DayOfMonth', 'Year', 'MA_24', 'MA_168'] + [f'lag_{lag}' for lag in range(1, 49)]\n",
    "X_train = train_data[features]\n",
    "y_train = train_data['FE_MW']\n",
    "X_test = test_data[features]\n",
    "y_test = test_data['FE_MW']"
   ]
  },
  {
   "cell_type": "code",
   "execution_count": 75,
   "id": "43b7221f",
   "metadata": {},
   "outputs": [],
   "source": [
    "# Xây dựng và huấn luyện mô hình XGBoost với tham số tinh chỉnh\n",
    "xgb_model = xgb.XGBRegressor(\n",
    "    n_estimators=200,  # Tăng số cây để học tốt hơn\n",
    "    learning_rate=0.05,  # Giảm để học chậm và ổn định hơn\n",
    "    max_depth=7,  # Tăng độ sâu để nắm bắt mẫu phức tạp\n",
    "    min_child_weight=2,\n",
    "    subsample=0.9,\n",
    "    colsample_bytree=0.9,\n",
    "    objective='reg:squarederror',\n",
    "    random_state=42\n",
    ")\n",
    "xgb_model.fit(X_train, y_train)\n",
    "\n",
    "# Dự báo\n",
    "y_pred = xgb_model.predict(X_test)"
   ]
  },
  {
   "cell_type": "code",
   "execution_count": 76,
   "id": "a6014966",
   "metadata": {},
   "outputs": [],
   "source": [
    "from sklearn.metrics import mean_absolute_error, mean_squared_error\n",
    "\n",
    "# Hàm tính toán các chỉ số đánh giá\n",
    "def calculate_metrics(actual, predicted):\n",
    "    mae = mean_absolute_error(actual, predicted)\n",
    "    rmse = np.sqrt(mean_squared_error(actual, predicted))\n",
    "    mape = np.mean(np.abs((actual - predicted) / actual)) * 100\n",
    "    return mae, rmse, mape"
   ]
  },
  {
   "cell_type": "code",
   "execution_count": 77,
   "id": "8813196e",
   "metadata": {},
   "outputs": [
    {
     "name": "stdout",
     "output_type": "stream",
     "text": [
      "XGBoost - MAE: 459.20, RMSE: 543.54, MAPE: 5.72%\n"
     ]
    }
   ],
   "source": [
    "# Đánh giá mô hình\n",
    "xgb_mae, xgb_rmse, xgb_mape = calculate_metrics(y_test, y_pred)\n",
    "print(f\"XGBoost - MAE: {xgb_mae:.2f}, RMSE: {xgb_rmse:.2f}, MAPE: {xgb_mape:.2f}%\")"
   ]
  }
 ],
 "metadata": {
  "kernelspec": {
   "display_name": "Python 3",
   "language": "python",
   "name": "python3"
  },
  "language_info": {
   "codemirror_mode": {
    "name": "ipython",
    "version": 3
   },
   "file_extension": ".py",
   "mimetype": "text/x-python",
   "name": "python",
   "nbconvert_exporter": "python",
   "pygments_lexer": "ipython3",
   "version": "3.13.3"
  }
 },
 "nbformat": 4,
 "nbformat_minor": 5
}
